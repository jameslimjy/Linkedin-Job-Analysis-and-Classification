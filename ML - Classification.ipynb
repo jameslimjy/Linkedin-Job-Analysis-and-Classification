{
 "cells": [
  {
   "cell_type": "markdown",
   "metadata": {},
   "source": [
    "In this notebook, I build 3 classification models to predict the job title given a job description. The 3 classification models I used are the Naive bayes classifier, Logistic regression classifier and Keras with LSTM layers."
   ]
  },
  {
   "cell_type": "markdown",
   "metadata": {},
   "source": [
    "#### Import libraries"
   ]
  },
  {
   "cell_type": "code",
   "execution_count": 56,
   "metadata": {},
   "outputs": [],
   "source": [
    "from nltk.corpus import stopwords\n",
    "from nltk.stem import WordNetLemmatizer\n",
    "from string import punctuation\n",
    "import matplotlib.pyplot as plt\n",
    "import string\n",
    "import os\n",
    "import pandas as pd\n",
    "import numpy as np\n",
    "import re\n",
    "from collections import Counter\n",
    "\n",
    "from sklearn.model_selection import train_test_split\n",
    "from sklearn.feature_extraction.text import TfidfVectorizer\n",
    "from sklearn.naive_bayes import MultinomialNB\n",
    "from sklearn.metrics import classification_report\n",
    "from sklearn.linear_model import LogisticRegression\n",
    "\n",
    "from keras.preprocessing.text import Tokenizer\n",
    "from keras.preprocessing.sequence import pad_sequences\n",
    "from tensorflow.keras.models import Sequential\n",
    "from tensorflow.keras.layers import Embedding, LSTM, Dense, Dropout\n",
    "from tensorflow.keras.initializers import Constant\n",
    "from tensorflow.keras.optimizers import Adam"
   ]
  },
  {
   "cell_type": "markdown",
   "metadata": {},
   "source": [
    "#### Cleaner function"
   ]
  },
  {
   "cell_type": "code",
   "execution_count": 28,
   "metadata": {},
   "outputs": [],
   "source": [
    "# Stop word list to filter noise in bag of words\n",
    "stop_list = stopwords.words('english')\n",
    "\n",
    "# All letters except for r, need to keep r because r represents R programming language\n",
    "letters = string.ascii_lowercase[:17] + string.ascii_lowercase[18:]\n",
    "letters_list = [letters[l] for l in range(len(letters))]\n",
    "\n",
    "WNL = WordNetLemmatizer()\n",
    "\n",
    "punct_list = [punctuation[p] for p in range(len(punctuation))]\n",
    "add_stop_words = ['class', 'div', 'description__text', 'ul', \n",
    "                  'li', 'br', 'ul', 'job', 'description', 'rich', \n",
    "                  'strong', 'to', 'apply', 'visit', 'the', 'and',\n",
    "                  'make', 'at', 'you', 'we', 'our', 'would', 'via',\n",
    "                  'pte', 'ltd', 'us', 'please', 'lt', 'weight', 'gt',\n",
    "                  'span', 'em']\n",
    "\n",
    "stop_list += punct_list + add_stop_words + letters_list\n",
    "\n",
    "def cleaner(x):\n",
    "    output = []\n",
    "    x = re.sub(r'<[\\sa-zA-Z0-9=\\-_/\"]+>', ' ', x)\n",
    "    for w in x.split():\n",
    "        curr_word = WNL.lemmatize(w)\n",
    "        curr_word = curr_word.lower()\n",
    "        curr_word = re.sub(r'[^\\w\\s]', '', curr_word)\n",
    "        if curr_word not in stop_list:\n",
    "            output.append(curr_word)\n",
    "    return ' '.join(output)\n",
    "\n",
    "# stop_list"
   ]
  },
  {
   "cell_type": "markdown",
   "metadata": {},
   "source": [
    "#### Combine all scraped_data csv to a single df"
   ]
  },
  {
   "cell_type": "code",
   "execution_count": 29,
   "metadata": {},
   "outputs": [
    {
     "name": "stdout",
     "output_type": "stream",
     "text": [
      "loading linkedin_data science.csv ...\n",
      "loading linkedin_software developer.csv ...\n",
      "loading linkedin_cybersecurity.csv ...\n",
      "loading linkedin_human resource.csv ...\n",
      "loading linkedin_operations.csv ...\n",
      "loading linkedin_business analyst.csv ...\n"
     ]
    }
   ],
   "source": [
    "# Combine all csv files to one master csv file\n",
    "datafolder = './scraped_data/'\n",
    "allfiles = [f for f in os.listdir(datafolder) if os.path.isfile(f\"{datafolder}{f}\")]\n",
    "\n",
    "d = {'Job Title': [], 'Company Name': [], 'Country': [], 'When Posted': [], 'No. of Applicants': [], 'Hyperlink': [], 'Job Description': [], 'Job Search': []}\n",
    "master = pd.DataFrame(data = d)\n",
    "\n",
    "for f in allfiles:\n",
    "    print('loading {} ...'.format(f))\n",
    "    df = pd.read_csv(datafolder + f)\n",
    "    \n",
    "    # Remove error rows\n",
    "    df = df.loc[df['Job Title'] != 'error']\n",
    "    \n",
    "    # Remove duplicates\n",
    "    duplicate_rows = df.duplicated(subset = ['Job Title', 'Company Name'], keep = 'first') # returns True for all 2nd duplicated rows\n",
    "    duplicate_rows_list = duplicate_rows.tolist()  \n",
    "    df = df[~duplicate_rows]\n",
    "    \n",
    "    # Create new column job search\n",
    "    df['Job Search'] = f.split('_')[1].split('.')[0]\n",
    "    \n",
    "    # Clean job description\n",
    "    df['Job Description'] =  df['Job Description'].replace(np.nan, '')\n",
    "    df['Job Description'] = df.apply(lambda x: cleaner(str(x['Job Description'])), axis = 1)\n",
    "        \n",
    "    master = master.append(df, ignore_index = True)"
   ]
  },
  {
   "cell_type": "markdown",
   "metadata": {},
   "source": [
    "#### Create integer label column for classification later"
   ]
  },
  {
   "cell_type": "code",
   "execution_count": 30,
   "metadata": {},
   "outputs": [
    {
     "data": {
      "text/html": [
       "<div>\n",
       "<style scoped>\n",
       "    .dataframe tbody tr th:only-of-type {\n",
       "        vertical-align: middle;\n",
       "    }\n",
       "\n",
       "    .dataframe tbody tr th {\n",
       "        vertical-align: top;\n",
       "    }\n",
       "\n",
       "    .dataframe thead th {\n",
       "        text-align: right;\n",
       "    }\n",
       "</style>\n",
       "<table border=\"1\" class=\"dataframe\">\n",
       "  <thead>\n",
       "    <tr style=\"text-align: right;\">\n",
       "      <th></th>\n",
       "      <th>Job Title</th>\n",
       "      <th>Company Name</th>\n",
       "      <th>Country</th>\n",
       "      <th>When Posted</th>\n",
       "      <th>No. of Applicants</th>\n",
       "      <th>Hyperlink</th>\n",
       "      <th>Job Description</th>\n",
       "      <th>Job Search</th>\n",
       "      <th>label</th>\n",
       "    </tr>\n",
       "  </thead>\n",
       "  <tbody>\n",
       "    <tr>\n",
       "      <th>0</th>\n",
       "      <td>Intern| Data Scientist - Computer Vision (Nov2...</td>\n",
       "      <td>Gojek</td>\n",
       "      <td>Singapore| Singapore</td>\n",
       "      <td>2 days ago</td>\n",
       "      <td>63 applicants</td>\n",
       "      <td>https://sg.linkedin.com/jobs/view/intern-data-...</td>\n",
       "      <td>role intern use statistic machine learning pow...</td>\n",
       "      <td>data science</td>\n",
       "      <td>1</td>\n",
       "    </tr>\n",
       "    <tr>\n",
       "      <th>1</th>\n",
       "      <td>Intern| Data Science</td>\n",
       "      <td>Yara International</td>\n",
       "      <td>Singapore| Singapore</td>\n",
       "      <td>1 day ago</td>\n",
       "      <td>Be among the first 25 applicants</td>\n",
       "      <td>https://sg.linkedin.com/jobs/view/intern-data-...</td>\n",
       "      <td>yara part global network collaborating profita...</td>\n",
       "      <td>data science</td>\n",
       "      <td>1</td>\n",
       "    </tr>\n",
       "    <tr>\n",
       "      <th>2</th>\n",
       "      <td>CRISP - Data Scientist</td>\n",
       "      <td>Deloitte</td>\n",
       "      <td>Singapore| Singapore</td>\n",
       "      <td>3 weeks ago</td>\n",
       "      <td>Over 200 applicants</td>\n",
       "      <td>https://sg.linkedin.com/jobs/view/crisp-data-s...</td>\n",
       "      <td>responsibilities  participate designing execut...</td>\n",
       "      <td>data science</td>\n",
       "      <td>1</td>\n",
       "    </tr>\n",
       "  </tbody>\n",
       "</table>\n",
       "</div>"
      ],
      "text/plain": [
       "                                           Job Title        Company Name  \\\n",
       "0  Intern| Data Scientist - Computer Vision (Nov2...               Gojek   \n",
       "1                               Intern| Data Science  Yara International   \n",
       "2                             CRISP - Data Scientist            Deloitte   \n",
       "\n",
       "                Country  When Posted                 No. of Applicants  \\\n",
       "0  Singapore| Singapore   2 days ago                     63 applicants   \n",
       "1  Singapore| Singapore    1 day ago  Be among the first 25 applicants   \n",
       "2  Singapore| Singapore  3 weeks ago               Over 200 applicants   \n",
       "\n",
       "                                           Hyperlink  \\\n",
       "0  https://sg.linkedin.com/jobs/view/intern-data-...   \n",
       "1  https://sg.linkedin.com/jobs/view/intern-data-...   \n",
       "2  https://sg.linkedin.com/jobs/view/crisp-data-s...   \n",
       "\n",
       "                                     Job Description    Job Search  label  \n",
       "0  role intern use statistic machine learning pow...  data science      1  \n",
       "1  yara part global network collaborating profita...  data science      1  \n",
       "2  responsibilities  participate designing execut...  data science      1  "
      ]
     },
     "execution_count": 30,
     "metadata": {},
     "output_type": "execute_result"
    }
   ],
   "source": [
    "def job_labeler(text):\n",
    "    label_id = 1\n",
    "    label_dict = {}\n",
    "    for i in text:\n",
    "        i = i.split('_')[1].split('.')[0]\n",
    "        label_dict[i] = label_id\n",
    "        label_id += 1\n",
    "    return label_dict\n",
    "\n",
    "job_labels = job_labeler(allfiles)\n",
    "\n",
    "master['label'] = master['Job Search'].apply(lambda x: job_labels[x])\n",
    "\n",
    "# Check DF so far\n",
    "master.head(3)"
   ]
  },
  {
   "cell_type": "markdown",
   "metadata": {},
   "source": [
    "#### Split to train and test set"
   ]
  },
  {
   "cell_type": "code",
   "execution_count": 35,
   "metadata": {},
   "outputs": [
    {
     "name": "stdout",
     "output_type": "stream",
     "text": [
      "\u001b[1mTrain set distribution:\u001b[0m\n",
      "5    755\n",
      "3    739\n",
      "4    733\n",
      "1    731\n",
      "6    730\n",
      "2    705\n",
      "Name: label, dtype: int64\n",
      "\u001b[1m\n",
      "Test set distribution:\u001b[0m\n",
      "5    189\n",
      "3    185\n",
      "4    184\n",
      "1    183\n",
      "6    182\n",
      "2    176\n",
      "Name: label, dtype: int64\n"
     ]
    }
   ],
   "source": [
    "# Train test split\n",
    "x_train, x_test, y_train, y_test = train_test_split(master['Job Description'], master['label'], test_size = 0.2, random_state = 123, stratify = master['Job Search'])\n",
    "\n",
    "# For deep learning model, convert output labels to numpy before fitting to model\n",
    "y_train_array = y_train.to_numpy()\n",
    "y_test_array = y_test.to_numpy()\n",
    "\n",
    "# Check if test and train sets are stratified\n",
    "print('\\033[1m' + 'Train set distribution:' + '\\033[0m')\n",
    "print(pd.value_counts(y_train))\n",
    "print('\\033[1m' + '\\nTest set distribution:' + '\\033[0m')\n",
    "print(pd.value_counts(y_test))"
   ]
  },
  {
   "cell_type": "markdown",
   "metadata": {},
   "source": [
    "# NB Classifier\n",
    "Transform training data into a tf-idf vectorizer and fit it into a Multinomial Naive Bayes classifier model."
   ]
  },
  {
   "cell_type": "code",
   "execution_count": 38,
   "metadata": {},
   "outputs": [],
   "source": [
    "# Fit and transform the training data\n",
    "tf = TfidfVectorizer()\n",
    "x_train_tfidf = tf.fit_transform(x_train)"
   ]
  },
  {
   "cell_type": "code",
   "execution_count": 41,
   "metadata": {},
   "outputs": [],
   "source": [
    "# Create model instance\n",
    "NB_model = MultinomialNB()\n",
    "\n",
    "# Fit to training data\n",
    "NB_model.fit(x_train_tfidf, y_train)\n",
    "\n",
    "# Vectorize test data using same tf object\n",
    "x_test_tfidf = tf.transform(x_test)"
   ]
  },
  {
   "cell_type": "code",
   "execution_count": 46,
   "metadata": {},
   "outputs": [
    {
     "name": "stdout",
     "output_type": "stream",
     "text": [
      "              precision    recall  f1-score   support\n",
      "\n",
      "           1       0.75      0.75      0.75       183\n",
      "           2       0.89      0.84      0.86       176\n",
      "           3       0.93      0.83      0.87       185\n",
      "           4       0.82      0.90      0.86       184\n",
      "           5       0.74      0.72      0.73       189\n",
      "           6       0.70      0.77      0.74       182\n",
      "\n",
      "    accuracy                           0.80      1099\n",
      "   macro avg       0.81      0.80      0.80      1099\n",
      "weighted avg       0.81      0.80      0.80      1099\n",
      "\n"
     ]
    }
   ],
   "source": [
    "# Print classification report\n",
    "nb_predicted_labels = NB_model.predict(x_test_tfidf)\n",
    "print(classification_report(y_test, nb_predicted_labels))"
   ]
  },
  {
   "cell_type": "markdown",
   "metadata": {},
   "source": [
    "# LR Classifier\n",
    "Fit tf-idf vectorizer into a Logistic Regression classifier model."
   ]
  },
  {
   "cell_type": "code",
   "execution_count": 49,
   "metadata": {},
   "outputs": [],
   "source": [
    "# Create model instance\n",
    "LR_model = LogisticRegression(solver = 'liblinear', max_iter = 1000, random_state = 123)\n",
    "\n",
    "# Fit to training data\n",
    "LR_model.fit(x_train_tfidf, y_train)"
   ]
  },
  {
   "cell_type": "code",
   "execution_count": 51,
   "metadata": {},
   "outputs": [
    {
     "name": "stdout",
     "output_type": "stream",
     "text": [
      "              precision    recall  f1-score   support\n",
      "\n",
      "           1       0.78      0.79      0.79       183\n",
      "           2       0.85      0.93      0.89       176\n",
      "           3       0.97      0.80      0.88       185\n",
      "           4       0.91      0.89      0.90       184\n",
      "           5       0.72      0.87      0.78       189\n",
      "           6       0.83      0.73      0.78       182\n",
      "\n",
      "    accuracy                           0.83      1099\n",
      "   macro avg       0.84      0.83      0.83      1099\n",
      "weighted avg       0.84      0.83      0.83      1099\n",
      "\n"
     ]
    }
   ],
   "source": [
    "# Print classification report\n",
    "lr_predicted_labels = LR_model.predict(x_test_tfidf)\n",
    "print(classification_report(y_test, lr_predicted_labels))"
   ]
  },
  {
   "cell_type": "markdown",
   "metadata": {},
   "source": [
    "# Deep Learning - LSTM"
   ]
  },
  {
   "cell_type": "markdown",
   "metadata": {},
   "source": [
    "Histogram of length of job descriptions. Set max words to 350 for dense vectors."
   ]
  },
  {
   "cell_type": "code",
   "execution_count": 54,
   "metadata": {},
   "outputs": [
    {
     "data": {
      "image/png": "[encoded data removed]",
      "text/plain": [
       "<Figure size 432x288 with 1 Axes>"
      ]
     },
     "metadata": {
      "needs_background": "light"
     },
     "output_type": "display_data"
    }
   ],
   "source": [
    "def find_length(x):\n",
    "    return(len(x.split()))\n",
    "\n",
    "master['Length of Job Descriptions'] = master.apply(lambda x: find_length(x['Job Description']), axis = 1)\n",
    "\n",
    "# Max number of words in a sequence\n",
    "max_length = 350\n",
    "\n",
    "plt.hist(master['Length of Job Descriptions'], bins = 40)\n",
    "plt.title('Histogram of Length of Job Descriptions')\n",
    "plt.show()"
   ]
  },
  {
   "cell_type": "code",
   "execution_count": 57,
   "metadata": {},
   "outputs": [],
   "source": [
    "# Count unique words\n",
    "def counter_word(text):\n",
    "    count = Counter()\n",
    "    for i in text.values:\n",
    "        for word in i.split():\n",
    "            count[word] += 1\n",
    "    return count\n",
    "\n",
    "text = master['Job Description']\n",
    "counter = counter_word(text)\n",
    "num_words = len(counter)"
   ]
  },
  {
   "cell_type": "code",
   "execution_count": 59,
   "metadata": {},
   "outputs": [],
   "source": [
    "# Create BOW\n",
    "tokenizer = Tokenizer(num_words = num_words)\n",
    "tokenizer.fit_on_texts(x_train)\n",
    "word_index = tokenizer.word_index"
   ]
  },
  {
   "cell_type": "code",
   "execution_count": 60,
   "metadata": {},
   "outputs": [],
   "source": [
    "# Create train and test sequences\n",
    "train_sequences = tokenizer.texts_to_sequences(x_train)\n",
    "test_sequences = tokenizer.texts_to_sequences(x_test)"
   ]
  },
  {
   "cell_type": "code",
   "execution_count": 61,
   "metadata": {},
   "outputs": [
    {
     "name": "stdout",
     "output_type": "stream",
     "text": [
      "Shape of train (4393, 350)\n",
      "Shape of test (1099, 350)\n"
     ]
    }
   ],
   "source": [
    "# Clipping and padding\n",
    "train_padded = pad_sequences(\n",
    "    train_sequences, maxlen = max_length, padding = 'pre', truncating = 'pre')\n",
    "\n",
    "test_padded = pad_sequences(\n",
    "    test_sequences, maxlen = max_length, padding = 'pre', truncating = 'pre')\n",
    "\n",
    "print('Shape of train {}'.format(str(train_padded.shape)))\n",
    "print('Shape of test {}'.format(str(test_padded.shape)))"
   ]
  },
  {
   "cell_type": "code",
   "execution_count": 62,
   "metadata": {},
   "outputs": [
    {
     "data": {
      "text/plain": [
       "'talented senior software engineer passionate creating new technology developing innovative solutions join next products amp platform pampp part onechat team create next generation collaboration platform ai powered secure chat amp video conferencing solution enterprises pampp leverage latest technology create groundbreaking product help accelerate client digital transformation agenda deep expertise robotics iot computer vision audio intelligence speech analytics much join role develop support internal product onechat serf communication platform ncs staff customers responsibilities designing developing highvolume lowlatency application missioncritical system delivering highavailability performance contribute phase development lifecycle write well designed testable efficient code ensure design compliance specification prepare produce release software component support continuous improvement investigating alternative technology presenting architectural review ideal candidate possess bsms degree computer science engineering related subject 46 year industry experience profound insight java jee internals loading memory management transaction management etc concurrent request handling excellent knowledge databases mysql sql mongodb experience windows linuxunix platform good understanding window client server web based application interpersonal analytical skill willingness learn share knowledge team member bonus points xml rest webservice mvc mybatis hibernate spring based ui framework experience nginx tomcat experience xmpp communication experience amazon cloud services microsoft azure'"
      ]
     },
     "execution_count": 62,
     "metadata": {},
     "output_type": "execute_result"
    }
   ],
   "source": [
    "# Check inverse\n",
    "reverse_word_index = dict([(value, key) for (key, value) in word_index.items()])\n",
    "\n",
    "def decode(text):\n",
    "    return ' '.join([reverse_word_index.get(i, '?') for i in text])\n",
    "\n",
    "decode(train_sequences[123])"
   ]
  },
  {
   "cell_type": "code",
   "execution_count": 65,
   "metadata": {
    "scrolled": true
   },
   "outputs": [
    {
     "name": "stdout",
     "output_type": "stream",
     "text": [
      "Model: \"sequential_1\"\n",
      "_________________________________________________________________\n",
      "Layer (type)                 Output Shape              Param #   \n",
      "=================================================================\n",
      "embedding_1 (Embedding)      (None, 350, 32)           991296    \n",
      "_________________________________________________________________\n",
      "lstm_2 (LSTM)                (None, 350, 100)          53200     \n",
      "_________________________________________________________________\n",
      "lstm_3 (LSTM)                (None, 50)                30200     \n",
      "_________________________________________________________________\n",
      "dense_1 (Dense)              (None, 10)                510       \n",
      "=================================================================\n",
      "Total params: 1,075,206\n",
      "Trainable params: 1,075,206\n",
      "Non-trainable params: 0\n",
      "_________________________________________________________________\n"
     ]
    }
   ],
   "source": [
    "# Build model\n",
    "model = Sequential()\n",
    "\n",
    "model.add(Embedding(num_words, 32, input_length = max_length))\n",
    "model.add(LSTM(100, dropout = 0.1, return_sequences = True))\n",
    "model.add(LSTM(50, dropout = 0.2))\n",
    "model.add(Dense(10, activation = 'softmax'))\n",
    "\n",
    "optimizer = Adam()\n",
    "model.compile(loss = 'sparse_categorical_crossentropy', optimizer = optimizer, metrics = ['accuracy'])\n",
    "model.summary()"
   ]
  },
  {
   "cell_type": "code",
   "execution_count": 66,
   "metadata": {
    "scrolled": true
   },
   "outputs": [
    {
     "name": "stdout",
     "output_type": "stream",
     "text": [
      "Epoch 1/15\n",
      "110/110 [==============================] - 95s 835ms/step - loss: 1.9737 - accuracy: 0.1666 - val_loss: 1.8136 - val_accuracy: 0.1638\n",
      "Epoch 2/15\n",
      "110/110 [==============================] - 92s 832ms/step - loss: 1.8120 - accuracy: 0.1444 - val_loss: 1.7977 - val_accuracy: 0.1923\n",
      "Epoch 3/15\n",
      "110/110 [==============================] - 91s 830ms/step - loss: 1.7926 - accuracy: 0.1820 - val_loss: 1.7840 - val_accuracy: 0.1593\n",
      "Epoch 4/15\n",
      "110/110 [==============================] - 91s 827ms/step - loss: 1.6842 - accuracy: 0.2968 - val_loss: 1.4495 - val_accuracy: 0.4653\n",
      "Epoch 5/15\n",
      "110/110 [==============================] - 90s 823ms/step - loss: 1.0311 - accuracy: 0.6607 - val_loss: 1.0691 - val_accuracy: 0.6086\n",
      "Epoch 6/15\n",
      "110/110 [==============================] - 92s 839ms/step - loss: 0.7475 - accuracy: 0.7562 - val_loss: 1.0920 - val_accuracy: 0.6234\n",
      "Epoch 7/15\n",
      "110/110 [==============================] - 90s 819ms/step - loss: 0.5649 - accuracy: 0.8265 - val_loss: 1.0299 - val_accuracy: 0.6610\n",
      "Epoch 8/15\n",
      "110/110 [==============================] - 90s 818ms/step - loss: 0.4605 - accuracy: 0.8560 - val_loss: 1.0775 - val_accuracy: 0.6644\n",
      "Epoch 9/15\n",
      "110/110 [==============================] - 91s 824ms/step - loss: 0.3991 - accuracy: 0.8808 - val_loss: 1.1493 - val_accuracy: 0.6212\n",
      "Epoch 10/15\n",
      "110/110 [==============================] - 90s 815ms/step - loss: 0.3518 - accuracy: 0.8997 - val_loss: 1.0445 - val_accuracy: 0.6815\n",
      "Epoch 11/15\n",
      "110/110 [==============================] - 90s 820ms/step - loss: 0.3061 - accuracy: 0.9061 - val_loss: 1.0569 - val_accuracy: 0.6724\n",
      "Epoch 12/15\n",
      "110/110 [==============================] - 90s 821ms/step - loss: 0.3607 - accuracy: 0.8908 - val_loss: 1.0697 - val_accuracy: 0.6906\n",
      "Epoch 13/15\n",
      "110/110 [==============================] - 90s 819ms/step - loss: 0.2984 - accuracy: 0.9074 - val_loss: 1.1166 - val_accuracy: 0.6849\n",
      "Epoch 14/15\n",
      "110/110 [==============================] - 90s 823ms/step - loss: 0.2567 - accuracy: 0.9240 - val_loss: 1.1415 - val_accuracy: 0.6678\n",
      "Epoch 15/15\n",
      "110/110 [==============================] - 90s 822ms/step - loss: 0.2407 - accuracy: 0.9197 - val_loss: 1.1889 - val_accuracy: 0.6678\n"
     ]
    }
   ],
   "source": [
    "history = model.fit(\n",
    "    train_padded, y_train_array, epochs = 15,\n",
    "    validation_split = 0.2)\n",
    "\n",
    "acc = history.history['acc']\n",
    "val_acc = history.history['val_acc']\n",
    "loss = history.history['loss']\n",
    "val_loss = history.history['val_loss']"
   ]
  },
  {
   "cell_type": "code",
   "execution_count": 78,
   "metadata": {},
   "outputs": [
    {
     "name": "stdout",
     "output_type": "stream",
     "text": [
      "35/35 [==============================] - 6s 182ms/step - loss: 1.1424 - accuracy: 0.6706\n",
      "Test accuracy: 0.6706096529960632\n"
     ]
    }
   ],
   "source": [
    "# Accuracy of test data\n",
    "test_loss, test_acc = model.evaluate(test_padded, y_test_array, verbose = 1)\n",
    "print(f'Test accuracy: {test_acc}')"
   ]
  },
  {
   "cell_type": "code",
   "execution_count": 79,
   "metadata": {},
   "outputs": [
    {
     "data": {
      "image/png": "[encoded data removed]",
      "text/plain": [
       "<Figure size 432x288 with 1 Axes>"
      ]
     },
     "metadata": {
      "needs_background": "light"
     },
     "output_type": "display_data"
    }
   ],
   "source": [
    "# Plot accuracy\n",
    "plt.plot()\n",
    "plt.title('Accuracy')\n",
    "plt.plot(history.history['accuracy'], label = 'train')\n",
    "plt.plot(history.history['val_accuracy'], label = 'validation')\n",
    "plt.legend()\n",
    "plt.show()"
   ]
  },
  {
   "cell_type": "code",
   "execution_count": 80,
   "metadata": {},
   "outputs": [
    {
     "data": {
      "image/png": "[encoded data removed]",
      "text/plain": [
       "<Figure size 432x288 with 1 Axes>"
      ]
     },
     "metadata": {
      "needs_background": "light"
     },
     "output_type": "display_data"
    }
   ],
   "source": [
    "# Plot loss\n",
    "plt.plot()\n",
    "plt.title('Loss')\n",
    "plt.plot(history.history['loss'], label = 'train')\n",
    "plt.plot(history.history['val_loss'], label = 'validation')\n",
    "plt.legend()\n",
    "plt.show()"
   ]
  }
 ],
 "metadata": {
  "kernelspec": {
   "display_name": "Python 3",
   "language": "python",
   "name": "python3"
  },
  "language_info": {
   "codemirror_mode": {
    "name": "ipython",
    "version": 3
   },
   "file_extension": ".py",
   "mimetype": "text/x-python",
   "name": "python",
   "nbconvert_exporter": "python",
   "pygments_lexer": "ipython3",
   "version": "3.8.6"
  }
 },
 "nbformat": 4,
 "nbformat_minor": 4
}
