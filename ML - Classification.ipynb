{
 "cells": [
  {
   "cell_type": "markdown",
   "metadata": {},
   "source": [
    "In this notebook, I build 3 classification models to predict the job title given a job description. The 3 classification models I used are the Naive bayes classifier, Logistic regression classifier and Keras with LSTM layers."
   ]
  },
  {
   "cell_type": "markdown",
   "metadata": {},
   "source": [
    "#### Import libraries"
   ]
  },
  {
   "cell_type": "markdown",
   "metadata": {},
   "source": [
    "#### Cleaner function"
   ]
  },
  {
   "cell_type": "code",
   "execution_count": 2,
   "metadata": {},
   "outputs": [],
   "source": [
    "from nltk.corpus import stopwords\n",
    "from nltk.stem import WordNetLemmatizer\n",
    "from string import punctuation\n",
    "import string\n",
    "\n",
    "# Stop word list to filter noise in bag of words\n",
    "stop_list = stopwords.words('english')\n",
    "\n",
    "# all letters except for r\n",
    "letters = string.ascii_lowercase[:17] + string.ascii_lowercase[18:]\n",
    "letters_list = [letters[l] for l in range(len(letters))]\n",
    "\n",
    "WNL = WordNetLemmatizer()\n",
    "\n",
    "punct_list = [punctuation[p] for p in range(len(punctuation))]\n",
    "add_stop_words = ['class', 'div', 'description__text', 'ul', \n",
    "                  'li', 'br', 'ul', 'job', 'description', 'rich', \n",
    "                  'strong', 'to', 'apply', 'visit', 'the', 'and',\n",
    "                  'make', 'at', 'you', 'we', 'our', 'would', 'via',\n",
    "                  'pte', 'ltd', 'us', 'please', 'lt', 'weight', 'gt',\n",
    "                  'span', 'em']\n",
    "\n",
    "stop_list += punct_list + add_stop_words + letters_list\n",
    "\n",
    "def cleaner(x):\n",
    "    output = []\n",
    "    x = re.sub(r'<[\\sa-zA-Z0-9=\\-_/\"]+>', ' ', x)\n",
    "    for w in x.split():\n",
    "        curr_word = WNL.lemmatize(w)\n",
    "        curr_word = curr_word.lower()\n",
    "        curr_word = re.sub(r'[^\\w\\s]', '', str(curr_word))\n",
    "        if curr_word not in stop_list:\n",
    "            output.append(curr_word)\n",
    "    return ' '.join(output)\n",
    "\n",
    "# stop_list"
   ]
  },
  {
   "cell_type": "markdown",
   "metadata": {},
   "source": [
    "#### Combine all scraped_data csv to a single df"
   ]
  },
  {
   "cell_type": "code",
   "execution_count": 3,
   "metadata": {},
   "outputs": [
    {
     "name": "stdout",
     "output_type": "stream",
     "text": [
      "loading linkedin_business analyst.csv ...\n",
      "loading linkedin_cybersecurity.csv ...\n",
      "loading linkedin_data science.csv ...\n",
      "loading linkedin_human resource.csv ...\n",
      "loading linkedin_operations.csv ...\n",
      "loading linkedin_software developer.csv ...\n"
     ]
    }
   ],
   "source": [
    "# Combine all csv files to one master csv file\n",
    "datafolder = './scraped_data/'\n",
    "allfiles = [f for f in listdir(datafolder) if isfile(join(datafolder, f))]\n",
    "\n",
    "d = {'Job Title': [], 'Company Name': [], 'Country': [], 'When Posted': [], 'No. of Applicants': [], 'Hyperlink': [], 'Job Description': [], 'Job Search': []}\n",
    "master = pd.DataFrame(data = d)\n",
    "\n",
    "for f in allfiles:\n",
    "    print('loading {} ...'.format(f))\n",
    "    df = pd.read_csv(datafolder + f)\n",
    "    \n",
    "    # Remove error rows\n",
    "    df = df.loc[df['Job Title'] != 'error']\n",
    "    \n",
    "    # Remove duplicates\n",
    "    duplicate_rows = df.duplicated(subset = ['Job Title', 'Company Name'], keep = 'first') # returns True for all 2nd duplicated rows\n",
    "    duplicate_rows_list = duplicate_rows.tolist()  \n",
    "    df = df[~duplicate_rows]\n",
    "    \n",
    "    # Create new column job search\n",
    "    df['Job Search'] = f.split('_')[1].split('.')[0]\n",
    "    \n",
    "    # Clean job description\n",
    "    df['Job Description'] =  df['Job Description'].replace(np.nan, '')\n",
    "    df['Job Description'] = df.apply(lambda x: cleaner(x['Job Description']), axis = 1)\n",
    "        \n",
    "    master = master.append(df, ignore_index = True)"
   ]
  },
  {
   "cell_type": "markdown",
   "metadata": {},
   "source": [
    "#### Create integer label column for classification later"
   ]
  },
  {
   "cell_type": "code",
   "execution_count": 4,
   "metadata": {},
   "outputs": [],
   "source": [
    "def job_labeler(text):\n",
    "    label_id = 1\n",
    "    label_dict = {}\n",
    "    for i in text:\n",
    "        i = i.split('_')[1].split('.')[0]\n",
    "        label_dict[i] = label_id\n",
    "        label_id += 1\n",
    "    return label_dict\n",
    "\n",
    "job_labels = job_labeler(allfiles)\n",
    "\n",
    "master['label'] = master['Job Search'].apply(lambda x: job_labels[x])"
   ]
  },
  {
   "cell_type": "code",
   "execution_count": 5,
   "metadata": {},
   "outputs": [
    {
     "data": {
      "text/html": [
       "<div>\n",
       "<style scoped>\n",
       "    .dataframe tbody tr th:only-of-type {\n",
       "        vertical-align: middle;\n",
       "    }\n",
       "\n",
       "    .dataframe tbody tr th {\n",
       "        vertical-align: top;\n",
       "    }\n",
       "\n",
       "    .dataframe thead th {\n",
       "        text-align: right;\n",
       "    }\n",
       "</style>\n",
       "<table border=\"1\" class=\"dataframe\">\n",
       "  <thead>\n",
       "    <tr style=\"text-align: right;\">\n",
       "      <th></th>\n",
       "      <th>Job Title</th>\n",
       "      <th>Company Name</th>\n",
       "      <th>Country</th>\n",
       "      <th>When Posted</th>\n",
       "      <th>No. of Applicants</th>\n",
       "      <th>Hyperlink</th>\n",
       "      <th>Job Description</th>\n",
       "      <th>Job Search</th>\n",
       "      <th>label</th>\n",
       "    </tr>\n",
       "  </thead>\n",
       "  <tbody>\n",
       "    <tr>\n",
       "      <th>0</th>\n",
       "      <td>Apple Support Business Analyst</td>\n",
       "      <td>Apple</td>\n",
       "      <td>Singapore| Singapore</td>\n",
       "      <td>4 weeks ago</td>\n",
       "      <td>55 applicants</td>\n",
       "      <td>https://sg.linkedin.com/jobs/view/apple-suppor...</td>\n",
       "      <td>summary imagine could apple great idea way bec...</td>\n",
       "      <td>business analyst</td>\n",
       "      <td>1</td>\n",
       "    </tr>\n",
       "    <tr>\n",
       "      <th>1</th>\n",
       "      <td>Business Analyst</td>\n",
       "      <td>One North</td>\n",
       "      <td>Singapore| Singapore</td>\n",
       "      <td>4 days ago</td>\n",
       "      <td>Be among the first 25 applicants</td>\n",
       "      <td>https://sg.linkedin.com/jobs/view/business-ana...</td>\n",
       "      <td>amp requirements role indepth understanding bu...</td>\n",
       "      <td>business analyst</td>\n",
       "      <td>1</td>\n",
       "    </tr>\n",
       "    <tr>\n",
       "      <th>2</th>\n",
       "      <td>IKEA Jurong - Business Analyst</td>\n",
       "      <td>IKEA</td>\n",
       "      <td>Singapore| Singapore</td>\n",
       "      <td>6 days ago</td>\n",
       "      <td>Over 200 applicants</td>\n",
       "      <td>https://sg.linkedin.com/jobs/view/ikea-jurong-...</td>\n",
       "      <td>company ikea vision create better everyday lif...</td>\n",
       "      <td>business analyst</td>\n",
       "      <td>1</td>\n",
       "    </tr>\n",
       "  </tbody>\n",
       "</table>\n",
       "</div>"
      ],
      "text/plain": [
       "                        Job Title Company Name               Country  \\\n",
       "0  Apple Support Business Analyst        Apple  Singapore| Singapore   \n",
       "1                Business Analyst    One North  Singapore| Singapore   \n",
       "2  IKEA Jurong - Business Analyst         IKEA  Singapore| Singapore   \n",
       "\n",
       "   When Posted                 No. of Applicants  \\\n",
       "0  4 weeks ago                     55 applicants   \n",
       "1   4 days ago  Be among the first 25 applicants   \n",
       "2   6 days ago               Over 200 applicants   \n",
       "\n",
       "                                           Hyperlink  \\\n",
       "0  https://sg.linkedin.com/jobs/view/apple-suppor...   \n",
       "1  https://sg.linkedin.com/jobs/view/business-ana...   \n",
       "2  https://sg.linkedin.com/jobs/view/ikea-jurong-...   \n",
       "\n",
       "                                     Job Description        Job Search  label  \n",
       "0  summary imagine could apple great idea way bec...  business analyst      1  \n",
       "1  amp requirements role indepth understanding bu...  business analyst      1  \n",
       "2  company ikea vision create better everyday lif...  business analyst      1  "
      ]
     },
     "execution_count": 5,
     "metadata": {},
     "output_type": "execute_result"
    }
   ],
   "source": [
    "master.head(3)"
   ]
  },
  {
   "cell_type": "code",
   "execution_count": 6,
   "metadata": {},
   "outputs": [
    {
     "data": {
      "text/html": [
       "<div>\n",
       "<style scoped>\n",
       "    .dataframe tbody tr th:only-of-type {\n",
       "        vertical-align: middle;\n",
       "    }\n",
       "\n",
       "    .dataframe tbody tr th {\n",
       "        vertical-align: top;\n",
       "    }\n",
       "\n",
       "    .dataframe thead th {\n",
       "        text-align: right;\n",
       "    }\n",
       "</style>\n",
       "<table border=\"1\" class=\"dataframe\">\n",
       "  <thead>\n",
       "    <tr style=\"text-align: right;\">\n",
       "      <th></th>\n",
       "      <th>Job Title</th>\n",
       "      <th>Company Name</th>\n",
       "      <th>Country</th>\n",
       "      <th>When Posted</th>\n",
       "      <th>No. of Applicants</th>\n",
       "      <th>Hyperlink</th>\n",
       "      <th>Job Description</th>\n",
       "      <th>Job Search</th>\n",
       "      <th>label</th>\n",
       "    </tr>\n",
       "  </thead>\n",
       "  <tbody>\n",
       "    <tr>\n",
       "      <th>5489</th>\n",
       "      <td>Software Engineer (DevOps)</td>\n",
       "      <td>GARUDA ROBOTICS PTE. LTD.</td>\n",
       "      <td>Singapore| Singapore</td>\n",
       "      <td>2 weeks ago</td>\n",
       "      <td>Be among the first 25 applicants</td>\n",
       "      <td>https://sg.linkedin.com/jobs/view/software-eng...</td>\n",
       "      <td>devops software engineer manage entire lifecyc...</td>\n",
       "      <td>software developer</td>\n",
       "      <td>6</td>\n",
       "    </tr>\n",
       "    <tr>\n",
       "      <th>5490</th>\n",
       "      <td>Lead Software Engineer / Senior Software Engin...</td>\n",
       "      <td>Golden Bridge Drive SG</td>\n",
       "      <td>Singapore| Singapore</td>\n",
       "      <td>4 weeks ago</td>\n",
       "      <td>Be among the first 25 applicants</td>\n",
       "      <td>https://sg.linkedin.com/jobs/view/lead-softwar...</td>\n",
       "      <td>golden bridge drive digital product company sp...</td>\n",
       "      <td>software developer</td>\n",
       "      <td>6</td>\n",
       "    </tr>\n",
       "    <tr>\n",
       "      <th>5491</th>\n",
       "      <td>Software Engineer</td>\n",
       "      <td>Secure Parking Singapore Pte Ltd secureparking...</td>\n",
       "      <td>Singapore| Singapore</td>\n",
       "      <td>2 weeks ago</td>\n",
       "      <td>Be among the first 25 applicants</td>\n",
       "      <td>https://sg.linkedin.com/jobs/view/software-eng...</td>\n",
       "      <td>software developer lead support various task a...</td>\n",
       "      <td>software developer</td>\n",
       "      <td>6</td>\n",
       "    </tr>\n",
       "  </tbody>\n",
       "</table>\n",
       "</div>"
      ],
      "text/plain": [
       "                                              Job Title  \\\n",
       "5489                         Software Engineer (DevOps)   \n",
       "5490  Lead Software Engineer / Senior Software Engin...   \n",
       "5491                                  Software Engineer   \n",
       "\n",
       "                                           Company Name               Country  \\\n",
       "5489                          GARUDA ROBOTICS PTE. LTD.  Singapore| Singapore   \n",
       "5490                             Golden Bridge Drive SG  Singapore| Singapore   \n",
       "5491  Secure Parking Singapore Pte Ltd secureparking...  Singapore| Singapore   \n",
       "\n",
       "      When Posted                 No. of Applicants  \\\n",
       "5489  2 weeks ago  Be among the first 25 applicants   \n",
       "5490  4 weeks ago  Be among the first 25 applicants   \n",
       "5491  2 weeks ago  Be among the first 25 applicants   \n",
       "\n",
       "                                              Hyperlink  \\\n",
       "5489  https://sg.linkedin.com/jobs/view/software-eng...   \n",
       "5490  https://sg.linkedin.com/jobs/view/lead-softwar...   \n",
       "5491  https://sg.linkedin.com/jobs/view/software-eng...   \n",
       "\n",
       "                                        Job Description          Job Search  \\\n",
       "5489  devops software engineer manage entire lifecyc...  software developer   \n",
       "5490  golden bridge drive digital product company sp...  software developer   \n",
       "5491  software developer lead support various task a...  software developer   \n",
       "\n",
       "      label  \n",
       "5489      6  \n",
       "5490      6  \n",
       "5491      6  "
      ]
     },
     "execution_count": 6,
     "metadata": {},
     "output_type": "execute_result"
    }
   ],
   "source": [
    "master.tail(3)"
   ]
  },
  {
   "cell_type": "markdown",
   "metadata": {},
   "source": [
    "#### Split to train and test set"
   ]
  },
  {
   "cell_type": "code",
   "execution_count": 7,
   "metadata": {},
   "outputs": [],
   "source": [
    "# Train test split\n",
    "x_train, x_test, y_train, y_test = train_test_split(master['Job Description'], master['label'], test_size = 0.2, random_state = 123, stratify = master['Job Search'])\n",
    "\n",
    "# For deep learning model, convert output labels to numpy before fitting to model\n",
    "y_train_array = y_train.to_numpy()\n",
    "y_test_array = y_test.to_numpy()"
   ]
  },
  {
   "cell_type": "code",
   "execution_count": 8,
   "metadata": {},
   "outputs": [
    {
     "name": "stdout",
     "output_type": "stream",
     "text": [
      "\u001b[1mTrain set distribution:\u001b[0m\n",
      "5    755\n",
      "2    739\n",
      "4    733\n",
      "3    731\n",
      "1    730\n",
      "6    705\n",
      "Name: label, dtype: int64\n",
      "\u001b[1m\n",
      "Test set distribution:\u001b[0m\n",
      "5    189\n",
      "2    185\n",
      "4    184\n",
      "3    183\n",
      "1    182\n",
      "6    176\n",
      "Name: label, dtype: int64\n"
     ]
    }
   ],
   "source": [
    "# Check if test and train sets are stratified\n",
    "print('\\033[1m' + 'Train set distribution:' + '\\033[0m')\n",
    "print(pd.value_counts(y_train))\n",
    "print('\\033[1m' + '\\nTest set distribution:' + '\\033[0m')\n",
    "print(pd.value_counts(y_test))"
   ]
  },
  {
   "cell_type": "markdown",
   "metadata": {},
   "source": [
    "# NB Classifier\n",
    "Transform training data into a tf-idf vectorizer and fit it into a Multinomial Naive Bayes classifier model."
   ]
  },
  {
   "cell_type": "code",
   "execution_count": 9,
   "metadata": {},
   "outputs": [],
   "source": [
    "# Fit and transform the training data\n",
    "tf = TfidfVectorizer()\n",
    "x_train_tfidf = tf.fit_transform(x_train)"
   ]
  },
  {
   "cell_type": "code",
   "execution_count": 10,
   "metadata": {},
   "outputs": [],
   "source": [
    "# Fit the model\n",
    "NB_model = MultinomialNB()\n",
    "\n",
    "# Fit to training data\n",
    "NB_model.fit(x_train_tfidf, y_train)\n",
    "\n",
    "# Vectorize test data using same tf object\n",
    "x_test_tfidf = tf.transform(x_test)"
   ]
  },
  {
   "cell_type": "code",
   "execution_count": 11,
   "metadata": {},
   "outputs": [],
   "source": [
    "nb_predicted_labels = NB_model.predict(x_test_tfidf)"
   ]
  },
  {
   "cell_type": "code",
   "execution_count": 12,
   "metadata": {},
   "outputs": [
    {
     "name": "stdout",
     "output_type": "stream",
     "text": [
      "              precision    recall  f1-score   support\n",
      "\n",
      "           1       0.70      0.77      0.74       182\n",
      "           2       0.93      0.83      0.87       185\n",
      "           3       0.75      0.75      0.75       183\n",
      "           4       0.82      0.90      0.86       184\n",
      "           5       0.74      0.72      0.73       189\n",
      "           6       0.89      0.84      0.86       176\n",
      "\n",
      "    accuracy                           0.80      1099\n",
      "   macro avg       0.81      0.80      0.80      1099\n",
      "weighted avg       0.81      0.80      0.80      1099\n",
      "\n"
     ]
    }
   ],
   "source": [
    "print(classification_report(y_test, nb_predicted_labels))"
   ]
  },
  {
   "cell_type": "markdown",
   "metadata": {},
   "source": [
    "# LR Classifier\n",
    "Fit tf-idf vectorizer into a Logistic Regression classifier model."
   ]
  },
  {
   "cell_type": "code",
   "execution_count": 13,
   "metadata": {},
   "outputs": [],
   "source": [
    "LR_model = LogisticRegression(solver = 'liblinear', max_iter = 1000, random_state = 123)"
   ]
  },
  {
   "cell_type": "code",
   "execution_count": 14,
   "metadata": {},
   "outputs": [
    {
     "data": {
      "text/plain": [
       "LogisticRegression(max_iter=1000, random_state=123, solver='liblinear')"
      ]
     },
     "execution_count": 14,
     "metadata": {},
     "output_type": "execute_result"
    }
   ],
   "source": [
    "LR_model.fit(x_train_tfidf, y_train)"
   ]
  },
  {
   "cell_type": "code",
   "execution_count": 15,
   "metadata": {},
   "outputs": [],
   "source": [
    "lr_predicted_labels = LR_model.predict(x_test_tfidf)"
   ]
  },
  {
   "cell_type": "code",
   "execution_count": 16,
   "metadata": {},
   "outputs": [
    {
     "name": "stdout",
     "output_type": "stream",
     "text": [
      "              precision    recall  f1-score   support\n",
      "\n",
      "           1       0.83      0.73      0.78       182\n",
      "           2       0.97      0.80      0.88       185\n",
      "           3       0.78      0.79      0.79       183\n",
      "           4       0.91      0.89      0.90       184\n",
      "           5       0.72      0.87      0.78       189\n",
      "           6       0.85      0.93      0.89       176\n",
      "\n",
      "    accuracy                           0.83      1099\n",
      "   macro avg       0.84      0.83      0.83      1099\n",
      "weighted avg       0.84      0.83      0.83      1099\n",
      "\n"
     ]
    }
   ],
   "source": [
    "print(classification_report(y_test, lr_predicted_labels))"
   ]
  },
  {
   "cell_type": "markdown",
   "metadata": {},
   "source": [
    "# Deep Learning - LSTM"
   ]
  },
  {
   "cell_type": "markdown",
   "metadata": {},
   "source": [
    "Histogram of length of job descriptions. Set max words to 350 for dense vectors."
   ]
  },
  {
   "cell_type": "code",
   "execution_count": 17,
   "metadata": {},
   "outputs": [
    {
     "data": {
      "image/png": "[encoded data removed]",
      "text/plain": [
       "<Figure size 432x288 with 1 Axes>"
      ]
     },
     "metadata": {
      "needs_background": "light"
     },
     "output_type": "display_data"
    }
   ],
   "source": [
    "def find_length(x):\n",
    "    return(len(x.split()))\n",
    "\n",
    "master['Length of Job Descriptions'] = master.apply(lambda x: find_length(x['Job Description']), axis = 1)\n",
    "\n",
    "# Max number of words in a sequence\n",
    "max_length = 350\n",
    "\n",
    "plt.hist(master['Length of Job Descriptions'], bins = 40)\n",
    "plt.title('Histogram of Length of Job Descriptions')\n",
    "plt.show()"
   ]
  },
  {
   "cell_type": "code",
   "execution_count": 18,
   "metadata": {},
   "outputs": [],
   "source": [
    "# Count unique words\n",
    "def counter_word(text):\n",
    "    count = Counter()\n",
    "    for i in text.values:\n",
    "        for word in i.split():\n",
    "            count[word] += 1\n",
    "    return count\n",
    "\n",
    "text = master['Job Description']\n",
    "counter = counter_word(text)\n",
    "num_words = len(counter)"
   ]
  },
  {
   "cell_type": "code",
   "execution_count": 19,
   "metadata": {},
   "outputs": [],
   "source": [
    "# Create BOW\n",
    "tokenizer = Tokenizer(num_words = num_words)\n",
    "tokenizer.fit_on_texts(x_train)\n",
    "word_index = tokenizer.word_index"
   ]
  },
  {
   "cell_type": "code",
   "execution_count": 20,
   "metadata": {},
   "outputs": [],
   "source": [
    "# Create train and test sequences\n",
    "train_sequences = tokenizer.texts_to_sequences(x_train)\n",
    "test_sequences = tokenizer.texts_to_sequences(x_test)"
   ]
  },
  {
   "cell_type": "code",
   "execution_count": 21,
   "metadata": {},
   "outputs": [
    {
     "name": "stdout",
     "output_type": "stream",
     "text": [
      "Shape of train (4393, 350)\n",
      "Shape of test (1099, 350)\n"
     ]
    }
   ],
   "source": [
    "# Clipping and padding\n",
    "from keras.preprocessing.sequence import pad_sequences\n",
    "\n",
    "train_padded = pad_sequences(\n",
    "    train_sequences, maxlen = max_length, padding = 'pre', truncating = 'pre')\n",
    "\n",
    "test_padded = pad_sequences(\n",
    "    test_sequences, maxlen = max_length, padding = 'pre', truncating = 'pre')\n",
    "\n",
    "print('Shape of train {}'.format(str(train_padded.shape)))\n",
    "print('Shape of test {}'.format(str(test_padded.shape)))"
   ]
  },
  {
   "cell_type": "code",
   "execution_count": 24,
   "metadata": {},
   "outputs": [
    {
     "data": {
      "text/plain": [
       "'talented senior software engineer passionate creating new technology developing innovative solutions join next products amp platform pampp part onechat team create next generation collaboration platform ai powered secure chat amp video conferencing solution enterprises pampp leverage latest technology create groundbreaking product help accelerate client digital transformation agenda deep expertise robotics iot computer vision audio intelligence speech analytics much join role develop support internal product onechat serf communication platform ncs staff customers responsibilities designing developing highvolume lowlatency application missioncritical system delivering highavailability performance contribute phase development lifecycle write well designed testable efficient code ensure design compliance specification prepare produce release software component support continuous improvement investigating alternative technology presenting architectural review ideal candidate possess bsms degree computer science engineering related subject 46 year industry experience profound insight java jee internals loading memory management transaction management etc concurrent request handling excellent knowledge databases mysql sql mongodb experience windows linuxunix platform good understanding window client server web based application interpersonal analytical skill willingness learn share knowledge team member bonus points xml rest webservice mvc mybatis hibernate spring based ui framework experience nginx tomcat experience xmpp communication experience amazon cloud services microsoft azure'"
      ]
     },
     "execution_count": 24,
     "metadata": {},
     "output_type": "execute_result"
    }
   ],
   "source": [
    "# Check inverse\n",
    "reverse_word_index = dict([(value, key) for (key, value) in word_index.items()])\n",
    "\n",
    "def decode(text):\n",
    "    return ' '.join([reverse_word_index.get(i, '?') for i in text])\n",
    "\n",
    "decode(train_sequences[123])"
   ]
  },
  {
   "cell_type": "code",
   "execution_count": 29,
   "metadata": {
    "scrolled": true
   },
   "outputs": [
    {
     "name": "stdout",
     "output_type": "stream",
     "text": [
      "Model: \"sequential_1\"\n",
      "_________________________________________________________________\n",
      "Layer (type)                 Output Shape              Param #   \n",
      "=================================================================\n",
      "embedding_1 (Embedding)      (None, 350, 32)           991264    \n",
      "_________________________________________________________________\n",
      "lstm_2 (LSTM)                (None, 350, 100)          53200     \n",
      "_________________________________________________________________\n",
      "lstm_3 (LSTM)                (None, 50)                30200     \n",
      "_________________________________________________________________\n",
      "dense_1 (Dense)              (None, 10)                510       \n",
      "=================================================================\n",
      "Total params: 1,075,174\n",
      "Trainable params: 1,075,174\n",
      "Non-trainable params: 0\n",
      "_________________________________________________________________\n"
     ]
    }
   ],
   "source": [
    "# Build model\n",
    "from tensorflow.keras.models import Sequential\n",
    "from tensorflow.keras.layers import Embedding, LSTM, Dense, Dropout\n",
    "from tensorflow.keras.initializers import Constant\n",
    "from tensorflow.keras.optimizers import Adam\n",
    "\n",
    "model = Sequential()\n",
    "\n",
    "model.add(Embedding(num_words, 32, input_length = max_length))\n",
    "model.add(LSTM(100, dropout = 0.1, return_sequences = True))\n",
    "model.add(LSTM(50, dropout = 0.2))\n",
    "model.add(Dense(10, activation = 'softmax'))\n",
    "\n",
    "optimizer = Adam()\n",
    "model.compile(loss = 'sparse_categorical_crossentropy', optimizer = optimizer, metrics = ['accuracy'])\n",
    "model.summary()"
   ]
  },
  {
   "cell_type": "code",
   "execution_count": 31,
   "metadata": {},
   "outputs": [
    {
     "name": "stdout",
     "output_type": "stream",
     "text": [
      "Epoch 1/120\n",
      "124/124 [==============================] - 28s 229ms/step - loss: 0.0593 - accuracy: 0.9653 - val_loss: 1.3026 - val_accuracy: 0.7455\n",
      "Epoch 2/120\n",
      "124/124 [==============================] - 28s 228ms/step - loss: 0.0582 - accuracy: 0.9653 - val_loss: 1.4152 - val_accuracy: 0.7386\n",
      "Epoch 3/120\n",
      "124/124 [==============================] - 30s 240ms/step - loss: 0.0648 - accuracy: 0.9646 - val_loss: 1.3378 - val_accuracy: 0.7318\n",
      "Epoch 4/120\n",
      "124/124 [==============================] - 29s 238ms/step - loss: 0.0638 - accuracy: 0.9666 - val_loss: 1.3655 - val_accuracy: 0.7341\n",
      "Epoch 5/120\n",
      "124/124 [==============================] - 30s 240ms/step - loss: 0.0715 - accuracy: 0.9633 - val_loss: 1.4818 - val_accuracy: 0.7045\n",
      "Epoch 6/120\n",
      "124/124 [==============================] - 30s 241ms/step - loss: 0.0890 - accuracy: 0.9598 - val_loss: 1.3876 - val_accuracy: 0.7364\n",
      "Epoch 7/120\n",
      "124/124 [==============================] - 29s 232ms/step - loss: 0.0759 - accuracy: 0.9633 - val_loss: 1.4095 - val_accuracy: 0.7318\n",
      "Epoch 8/120\n",
      "124/124 [==============================] - 30s 239ms/step - loss: 0.0625 - accuracy: 0.9648 - val_loss: 1.4387 - val_accuracy: 0.7318\n",
      "Epoch 9/120\n",
      "124/124 [==============================] - 28s 228ms/step - loss: 0.0603 - accuracy: 0.9669 - val_loss: 1.3791 - val_accuracy: 0.7500\n",
      "Epoch 10/120\n",
      "124/124 [==============================] - 30s 241ms/step - loss: 0.0569 - accuracy: 0.9671 - val_loss: 1.4039 - val_accuracy: 0.7341\n",
      "Epoch 11/120\n",
      "124/124 [==============================] - 28s 229ms/step - loss: 0.0586 - accuracy: 0.9664 - val_loss: 1.4494 - val_accuracy: 0.7341\n",
      "Epoch 12/120\n",
      "124/124 [==============================] - 29s 234ms/step - loss: 0.0568 - accuracy: 0.9681 - val_loss: 1.4160 - val_accuracy: 0.7409\n",
      "Epoch 13/120\n",
      "124/124 [==============================] - 29s 232ms/step - loss: 0.0547 - accuracy: 0.9653 - val_loss: 1.4084 - val_accuracy: 0.7432\n",
      "Epoch 14/120\n",
      "124/124 [==============================] - 27s 222ms/step - loss: 0.0560 - accuracy: 0.9681 - val_loss: 1.4492 - val_accuracy: 0.7545\n",
      "Epoch 15/120\n",
      "124/124 [==============================] - 27s 220ms/step - loss: 0.0866 - accuracy: 0.9618 - val_loss: 1.4847 - val_accuracy: 0.7318\n",
      "Epoch 16/120\n",
      "124/124 [==============================] - 27s 221ms/step - loss: 0.0992 - accuracy: 0.9545 - val_loss: 1.3027 - val_accuracy: 0.7477\n",
      "Epoch 17/120\n",
      "124/124 [==============================] - 27s 220ms/step - loss: 0.0879 - accuracy: 0.9615 - val_loss: 1.2697 - val_accuracy: 0.7568\n",
      "Epoch 18/120\n",
      "124/124 [==============================] - 28s 222ms/step - loss: 0.0673 - accuracy: 0.9666 - val_loss: 1.3455 - val_accuracy: 0.7409\n",
      "Epoch 19/120\n",
      "124/124 [==============================] - 28s 224ms/step - loss: 0.0618 - accuracy: 0.9656 - val_loss: 1.3940 - val_accuracy: 0.7409\n",
      "Epoch 20/120\n",
      "124/124 [==============================] - 27s 221ms/step - loss: 0.0592 - accuracy: 0.9646 - val_loss: 1.3960 - val_accuracy: 0.7432\n",
      "Epoch 21/120\n",
      "124/124 [==============================] - 27s 220ms/step - loss: 0.0569 - accuracy: 0.9676 - val_loss: 1.3189 - val_accuracy: 0.7523\n",
      "Epoch 22/120\n",
      "124/124 [==============================] - 27s 221ms/step - loss: 0.0622 - accuracy: 0.9628 - val_loss: 1.4139 - val_accuracy: 0.7364\n",
      "Epoch 23/120\n",
      "124/124 [==============================] - 28s 222ms/step - loss: 0.0566 - accuracy: 0.9658 - val_loss: 1.4662 - val_accuracy: 0.7205\n",
      "Epoch 24/120\n",
      "124/124 [==============================] - 27s 221ms/step - loss: 0.0603 - accuracy: 0.9676 - val_loss: 1.3621 - val_accuracy: 0.7523\n",
      "Epoch 25/120\n",
      "124/124 [==============================] - 27s 216ms/step - loss: 0.0543 - accuracy: 0.9676 - val_loss: 1.4059 - val_accuracy: 0.7636\n",
      "Epoch 26/120\n",
      "124/124 [==============================] - 27s 216ms/step - loss: 0.0532 - accuracy: 0.9674 - val_loss: 1.3983 - val_accuracy: 0.7523\n",
      "Epoch 27/120\n",
      "124/124 [==============================] - 27s 216ms/step - loss: 0.0521 - accuracy: 0.9676 - val_loss: 1.4472 - val_accuracy: 0.7273\n",
      "Epoch 28/120\n",
      "124/124 [==============================] - 27s 217ms/step - loss: 0.0519 - accuracy: 0.9676 - val_loss: 1.4637 - val_accuracy: 0.7386\n",
      "Epoch 29/120\n",
      "124/124 [==============================] - 27s 217ms/step - loss: 0.0611 - accuracy: 0.9626 - val_loss: 1.3958 - val_accuracy: 0.7682\n",
      "Epoch 30/120\n",
      "124/124 [==============================] - 27s 217ms/step - loss: 0.0632 - accuracy: 0.9653 - val_loss: 1.4017 - val_accuracy: 0.7432\n",
      "Epoch 31/120\n",
      "124/124 [==============================] - 27s 217ms/step - loss: 0.0578 - accuracy: 0.9656 - val_loss: 1.3830 - val_accuracy: 0.7636\n",
      "Epoch 32/120\n",
      "124/124 [==============================] - 27s 217ms/step - loss: 0.0527 - accuracy: 0.9681 - val_loss: 1.3859 - val_accuracy: 0.7591\n",
      "Epoch 33/120\n",
      "124/124 [==============================] - 27s 218ms/step - loss: 0.0531 - accuracy: 0.9681 - val_loss: 1.4414 - val_accuracy: 0.7500\n",
      "Epoch 34/120\n",
      "124/124 [==============================] - 27s 218ms/step - loss: 0.0558 - accuracy: 0.9643 - val_loss: 1.4262 - val_accuracy: 0.7455\n",
      "Epoch 35/120\n",
      "124/124 [==============================] - 27s 217ms/step - loss: 0.0524 - accuracy: 0.9666 - val_loss: 1.4432 - val_accuracy: 0.7409\n",
      "Epoch 36/120\n",
      "124/124 [==============================] - 27s 217ms/step - loss: 0.0518 - accuracy: 0.9676 - val_loss: 1.3415 - val_accuracy: 0.7636\n",
      "Epoch 37/120\n",
      "124/124 [==============================] - 27s 219ms/step - loss: 0.0509 - accuracy: 0.9669 - val_loss: 1.4166 - val_accuracy: 0.7409\n",
      "Epoch 38/120\n",
      "124/124 [==============================] - 27s 216ms/step - loss: 0.0608 - accuracy: 0.9664 - val_loss: 1.3880 - val_accuracy: 0.7432\n",
      "Epoch 39/120\n",
      "124/124 [==============================] - 27s 217ms/step - loss: 0.0561 - accuracy: 0.9661 - val_loss: 1.3740 - val_accuracy: 0.7591\n",
      "Epoch 40/120\n",
      "124/124 [==============================] - 27s 219ms/step - loss: 0.0524 - accuracy: 0.9676 - val_loss: 1.4261 - val_accuracy: 0.7500\n",
      "Epoch 41/120\n",
      "124/124 [==============================] - 27s 219ms/step - loss: 0.0473 - accuracy: 0.9686 - val_loss: 1.3950 - val_accuracy: 0.7568\n",
      "Epoch 42/120\n",
      "124/124 [==============================] - 27s 219ms/step - loss: 0.0487 - accuracy: 0.9691 - val_loss: 1.5141 - val_accuracy: 0.7455\n",
      "Epoch 43/120\n",
      "124/124 [==============================] - 27s 219ms/step - loss: 0.0496 - accuracy: 0.9666 - val_loss: 1.4810 - val_accuracy: 0.7295\n",
      "Epoch 44/120\n",
      "124/124 [==============================] - 27s 218ms/step - loss: 0.0569 - accuracy: 0.9671 - val_loss: 1.4990 - val_accuracy: 0.7455\n",
      "Epoch 45/120\n",
      "124/124 [==============================] - 27s 218ms/step - loss: 0.1053 - accuracy: 0.9588 - val_loss: 1.4522 - val_accuracy: 0.7341\n",
      "Epoch 46/120\n",
      "124/124 [==============================] - 27s 218ms/step - loss: 0.0789 - accuracy: 0.9618 - val_loss: 1.3783 - val_accuracy: 0.7364\n",
      "Epoch 47/120\n",
      "124/124 [==============================] - 27s 219ms/step - loss: 0.0649 - accuracy: 0.9653 - val_loss: 1.5136 - val_accuracy: 0.7341\n",
      "Epoch 48/120\n",
      "124/124 [==============================] - 27s 218ms/step - loss: 0.0563 - accuracy: 0.9656 - val_loss: 1.5325 - val_accuracy: 0.7250\n",
      "Epoch 49/120\n",
      "124/124 [==============================] - 27s 218ms/step - loss: 0.0562 - accuracy: 0.9686 - val_loss: 1.4957 - val_accuracy: 0.7341\n",
      "Epoch 50/120\n",
      "124/124 [==============================] - 27s 219ms/step - loss: 0.0585 - accuracy: 0.9658 - val_loss: 1.4750 - val_accuracy: 0.7318\n",
      "Epoch 51/120\n",
      "124/124 [==============================] - 27s 219ms/step - loss: 0.0622 - accuracy: 0.9648 - val_loss: 1.4468 - val_accuracy: 0.7386\n",
      "Epoch 52/120\n",
      "124/124 [==============================] - 27s 219ms/step - loss: 0.0539 - accuracy: 0.9689 - val_loss: 1.4046 - val_accuracy: 0.7523\n",
      "Epoch 53/120\n",
      "124/124 [==============================] - 27s 218ms/step - loss: 0.0506 - accuracy: 0.9691 - val_loss: 1.4735 - val_accuracy: 0.7318\n",
      "Epoch 54/120\n",
      "124/124 [==============================] - 27s 218ms/step - loss: 0.0513 - accuracy: 0.9691 - val_loss: 1.5157 - val_accuracy: 0.7318\n",
      "Epoch 55/120\n",
      "124/124 [==============================] - 27s 220ms/step - loss: 0.0549 - accuracy: 0.9684 - val_loss: 1.5061 - val_accuracy: 0.7341\n",
      "Epoch 56/120\n",
      "124/124 [==============================] - 27s 218ms/step - loss: 0.0482 - accuracy: 0.9709 - val_loss: 1.5039 - val_accuracy: 0.7409\n"
     ]
    },
    {
     "name": "stdout",
     "output_type": "stream",
     "text": [
      "Epoch 57/120\n",
      "124/124 [==============================] - 27s 220ms/step - loss: 0.0516 - accuracy: 0.9689 - val_loss: 1.5285 - val_accuracy: 0.7364\n",
      "Epoch 58/120\n",
      "124/124 [==============================] - 27s 218ms/step - loss: 0.0494 - accuracy: 0.9696 - val_loss: 1.5110 - val_accuracy: 0.7409\n",
      "Epoch 59/120\n",
      "124/124 [==============================] - 27s 219ms/step - loss: 0.0467 - accuracy: 0.9724 - val_loss: 1.4976 - val_accuracy: 0.7500\n",
      "Epoch 60/120\n",
      "124/124 [==============================] - 27s 219ms/step - loss: 0.0478 - accuracy: 0.9679 - val_loss: 1.5170 - val_accuracy: 0.7477\n",
      "Epoch 61/120\n",
      "124/124 [==============================] - 27s 219ms/step - loss: 0.0479 - accuracy: 0.9684 - val_loss: 1.4920 - val_accuracy: 0.7523\n",
      "Epoch 62/120\n",
      "124/124 [==============================] - 27s 222ms/step - loss: 0.0500 - accuracy: 0.9681 - val_loss: 1.5751 - val_accuracy: 0.7409\n",
      "Epoch 63/120\n",
      "124/124 [==============================] - 27s 220ms/step - loss: 0.0490 - accuracy: 0.9691 - val_loss: 1.5721 - val_accuracy: 0.7318\n",
      "Epoch 64/120\n",
      "124/124 [==============================] - 27s 219ms/step - loss: 0.0516 - accuracy: 0.9674 - val_loss: 1.5498 - val_accuracy: 0.7318\n",
      "Epoch 65/120\n",
      "124/124 [==============================] - 27s 220ms/step - loss: 0.0491 - accuracy: 0.9704 - val_loss: 1.5725 - val_accuracy: 0.7182\n",
      "Epoch 66/120\n",
      "124/124 [==============================] - 27s 221ms/step - loss: 0.0497 - accuracy: 0.9681 - val_loss: 1.6215 - val_accuracy: 0.7182\n",
      "Epoch 67/120\n",
      "124/124 [==============================] - 27s 221ms/step - loss: 0.0619 - accuracy: 0.9669 - val_loss: 1.5188 - val_accuracy: 0.7523\n",
      "Epoch 68/120\n",
      "124/124 [==============================] - 27s 221ms/step - loss: 0.0919 - accuracy: 0.9557 - val_loss: 1.4949 - val_accuracy: 0.7432\n",
      "Epoch 69/120\n",
      "124/124 [==============================] - 27s 221ms/step - loss: 0.1264 - accuracy: 0.9529 - val_loss: 1.4847 - val_accuracy: 0.7045\n",
      "Epoch 70/120\n",
      "124/124 [==============================] - 27s 221ms/step - loss: 0.0794 - accuracy: 0.9651 - val_loss: 1.6606 - val_accuracy: 0.6932\n",
      "Epoch 71/120\n",
      "124/124 [==============================] - 28s 222ms/step - loss: 0.0757 - accuracy: 0.9656 - val_loss: 1.3903 - val_accuracy: 0.7409\n",
      "Epoch 72/120\n",
      "124/124 [==============================] - 28s 222ms/step - loss: 0.0564 - accuracy: 0.9701 - val_loss: 1.4778 - val_accuracy: 0.7205\n",
      "Epoch 73/120\n",
      "124/124 [==============================] - 28s 223ms/step - loss: 0.0588 - accuracy: 0.9671 - val_loss: 1.3981 - val_accuracy: 0.7432\n",
      "Epoch 74/120\n",
      "124/124 [==============================] - 28s 224ms/step - loss: 0.0576 - accuracy: 0.9691 - val_loss: 1.4742 - val_accuracy: 0.7227\n",
      "Epoch 75/120\n",
      "124/124 [==============================] - 27s 220ms/step - loss: 0.0540 - accuracy: 0.9689 - val_loss: 1.4204 - val_accuracy: 0.7364\n",
      "Epoch 76/120\n",
      "124/124 [==============================] - 28s 222ms/step - loss: 0.0495 - accuracy: 0.9686 - val_loss: 1.4486 - val_accuracy: 0.7386\n",
      "Epoch 77/120\n",
      "124/124 [==============================] - 27s 219ms/step - loss: 0.0482 - accuracy: 0.9686 - val_loss: 1.4480 - val_accuracy: 0.7227\n",
      "Epoch 78/120\n",
      "124/124 [==============================] - 27s 218ms/step - loss: 0.0501 - accuracy: 0.9689 - val_loss: 1.4729 - val_accuracy: 0.7341\n",
      "Epoch 79/120\n",
      "124/124 [==============================] - 27s 220ms/step - loss: 0.0486 - accuracy: 0.9689 - val_loss: 1.4904 - val_accuracy: 0.7273\n",
      "Epoch 80/120\n",
      "124/124 [==============================] - 27s 220ms/step - loss: 0.0462 - accuracy: 0.9684 - val_loss: 1.4351 - val_accuracy: 0.7455\n",
      "Epoch 81/120\n",
      "124/124 [==============================] - 27s 220ms/step - loss: 0.0461 - accuracy: 0.9694 - val_loss: 1.4661 - val_accuracy: 0.7364\n",
      "Epoch 82/120\n",
      "124/124 [==============================] - 27s 219ms/step - loss: 0.0474 - accuracy: 0.9679 - val_loss: 1.6168 - val_accuracy: 0.7250\n",
      "Epoch 83/120\n",
      "124/124 [==============================] - 27s 219ms/step - loss: 0.0476 - accuracy: 0.9694 - val_loss: 1.5364 - val_accuracy: 0.7477\n",
      "Epoch 84/120\n",
      "124/124 [==============================] - 27s 221ms/step - loss: 0.0498 - accuracy: 0.9681 - val_loss: 1.5250 - val_accuracy: 0.7477\n",
      "Epoch 85/120\n",
      "124/124 [==============================] - 27s 221ms/step - loss: 0.0480 - accuracy: 0.9681 - val_loss: 1.4729 - val_accuracy: 0.7432\n",
      "Epoch 86/120\n",
      "124/124 [==============================] - 27s 219ms/step - loss: 0.0473 - accuracy: 0.9712 - val_loss: 1.5419 - val_accuracy: 0.7341\n",
      "Epoch 87/120\n",
      "124/124 [==============================] - 27s 219ms/step - loss: 0.0472 - accuracy: 0.9674 - val_loss: 1.5458 - val_accuracy: 0.7318\n",
      "Epoch 88/120\n",
      "124/124 [==============================] - 27s 219ms/step - loss: 0.0451 - accuracy: 0.9707 - val_loss: 1.4770 - val_accuracy: 0.7477\n",
      "Epoch 89/120\n",
      "124/124 [==============================] - 27s 219ms/step - loss: 0.0436 - accuracy: 0.9707 - val_loss: 1.4718 - val_accuracy: 0.7477\n",
      "Epoch 90/120\n",
      "124/124 [==============================] - 27s 220ms/step - loss: 0.0438 - accuracy: 0.9689 - val_loss: 1.4822 - val_accuracy: 0.7318\n",
      "Epoch 91/120\n",
      "124/124 [==============================] - 27s 219ms/step - loss: 0.0438 - accuracy: 0.9694 - val_loss: 1.5106 - val_accuracy: 0.7500\n",
      "Epoch 92/120\n",
      "124/124 [==============================] - 27s 220ms/step - loss: 0.0436 - accuracy: 0.9681 - val_loss: 1.4998 - val_accuracy: 0.7523\n",
      "Epoch 93/120\n",
      "124/124 [==============================] - 27s 220ms/step - loss: 0.0456 - accuracy: 0.9694 - val_loss: 1.5228 - val_accuracy: 0.7636\n",
      "Epoch 94/120\n",
      "124/124 [==============================] - 27s 220ms/step - loss: 0.0437 - accuracy: 0.9684 - val_loss: 1.5020 - val_accuracy: 0.7455\n",
      "Epoch 95/120\n",
      "124/124 [==============================] - 27s 221ms/step - loss: 0.0432 - accuracy: 0.9664 - val_loss: 1.4971 - val_accuracy: 0.7318\n",
      "Epoch 96/120\n",
      "124/124 [==============================] - 27s 221ms/step - loss: 0.0540 - accuracy: 0.9646 - val_loss: 1.5946 - val_accuracy: 0.7227\n",
      "Epoch 97/120\n",
      "124/124 [==============================] - 27s 220ms/step - loss: 0.0556 - accuracy: 0.9681 - val_loss: 1.4907 - val_accuracy: 0.7341\n",
      "Epoch 98/120\n",
      "124/124 [==============================] - 27s 221ms/step - loss: 0.0519 - accuracy: 0.9689 - val_loss: 1.5236 - val_accuracy: 0.7250\n",
      "Epoch 99/120\n",
      "124/124 [==============================] - 27s 221ms/step - loss: 0.0507 - accuracy: 0.9714 - val_loss: 1.5361 - val_accuracy: 0.7386\n",
      "Epoch 100/120\n",
      "124/124 [==============================] - 27s 221ms/step - loss: 0.0445 - accuracy: 0.9699 - val_loss: 1.4982 - val_accuracy: 0.7523\n",
      "Epoch 101/120\n",
      "124/124 [==============================] - 28s 222ms/step - loss: 0.0514 - accuracy: 0.9674 - val_loss: 1.5565 - val_accuracy: 0.7386\n",
      "Epoch 102/120\n",
      "124/124 [==============================] - 27s 221ms/step - loss: 0.0636 - accuracy: 0.9701 - val_loss: 1.5627 - val_accuracy: 0.7409\n",
      "Epoch 103/120\n",
      "124/124 [==============================] - 27s 221ms/step - loss: 0.0534 - accuracy: 0.9679 - val_loss: 1.4845 - val_accuracy: 0.7523\n",
      "Epoch 104/120\n",
      "124/124 [==============================] - 27s 221ms/step - loss: 0.0481 - accuracy: 0.9671 - val_loss: 1.4941 - val_accuracy: 0.7477\n",
      "Epoch 105/120\n",
      "124/124 [==============================] - 28s 222ms/step - loss: 0.0844 - accuracy: 0.9578 - val_loss: 1.3585 - val_accuracy: 0.7500\n",
      "Epoch 106/120\n",
      "124/124 [==============================] - 28s 224ms/step - loss: 0.0614 - accuracy: 0.9679 - val_loss: 1.4784 - val_accuracy: 0.7523\n",
      "Epoch 107/120\n",
      "124/124 [==============================] - 28s 224ms/step - loss: 0.0499 - accuracy: 0.9694 - val_loss: 1.3766 - val_accuracy: 0.7455\n",
      "Epoch 108/120\n",
      "124/124 [==============================] - 27s 221ms/step - loss: 0.0464 - accuracy: 0.9712 - val_loss: 1.4047 - val_accuracy: 0.7500\n",
      "Epoch 109/120\n",
      "124/124 [==============================] - 28s 223ms/step - loss: 0.0462 - accuracy: 0.9699 - val_loss: 1.4614 - val_accuracy: 0.7386\n",
      "Epoch 110/120\n",
      "124/124 [==============================] - 28s 227ms/step - loss: 0.0487 - accuracy: 0.9684 - val_loss: 1.3661 - val_accuracy: 0.7591\n",
      "Epoch 111/120\n",
      "124/124 [==============================] - 28s 223ms/step - loss: 0.0460 - accuracy: 0.9707 - val_loss: 1.4030 - val_accuracy: 0.7455\n",
      "Epoch 112/120\n"
     ]
    },
    {
     "name": "stdout",
     "output_type": "stream",
     "text": [
      "124/124 [==============================] - 28s 222ms/step - loss: 0.0448 - accuracy: 0.9696 - val_loss: 1.4339 - val_accuracy: 0.7500\n",
      "Epoch 113/120\n",
      "124/124 [==============================] - 27s 221ms/step - loss: 0.0435 - accuracy: 0.9686 - val_loss: 1.4226 - val_accuracy: 0.7523\n",
      "Epoch 114/120\n",
      "124/124 [==============================] - 27s 221ms/step - loss: 0.0434 - accuracy: 0.9684 - val_loss: 1.4529 - val_accuracy: 0.7591\n",
      "Epoch 115/120\n",
      "124/124 [==============================] - 28s 222ms/step - loss: 0.0421 - accuracy: 0.9679 - val_loss: 1.4699 - val_accuracy: 0.7614\n",
      "Epoch 116/120\n",
      "124/124 [==============================] - 28s 223ms/step - loss: 0.0422 - accuracy: 0.9686 - val_loss: 1.4473 - val_accuracy: 0.7705\n",
      "Epoch 117/120\n",
      "124/124 [==============================] - 28s 223ms/step - loss: 0.0424 - accuracy: 0.9689 - val_loss: 1.4707 - val_accuracy: 0.7636\n",
      "Epoch 118/120\n",
      "124/124 [==============================] - 28s 223ms/step - loss: 0.0417 - accuracy: 0.9691 - val_loss: 1.4653 - val_accuracy: 0.7636\n",
      "Epoch 119/120\n",
      "124/124 [==============================] - 34s 275ms/step - loss: 0.0413 - accuracy: 0.9701 - val_loss: 1.4966 - val_accuracy: 0.7682\n",
      "Epoch 120/120\n",
      "124/124 [==============================] - 35s 285ms/step - loss: 0.0571 - accuracy: 0.9666 - val_loss: 1.4956 - val_accuracy: 0.7432\n"
     ]
    }
   ],
   "source": [
    "history = model.fit(\n",
    "    train_padded, y_train_array, epochs = 120,\n",
    "    validation_split = 0.1)"
   ]
  },
  {
   "cell_type": "code",
   "execution_count": 32,
   "metadata": {},
   "outputs": [
    {
     "name": "stdout",
     "output_type": "stream",
     "text": [
      "Test accuracy:  0.7415832281112671\n"
     ]
    }
   ],
   "source": [
    "# Check accuracy on test data\n",
    "test_loss, test_acc = model.evaluate(test_padded, y_test_array, verbose = 0)\n",
    "print('Test accuracy: ', test_acc)"
   ]
  },
  {
   "cell_type": "code",
   "execution_count": 33,
   "metadata": {},
   "outputs": [
    {
     "data": {
      "image/png": "[encoded data removed]",
      "text/plain": [
       "<Figure size 432x288 with 1 Axes>"
      ]
     },
     "metadata": {
      "needs_background": "light"
     },
     "output_type": "display_data"
    }
   ],
   "source": [
    "from matplotlib import pyplot\n",
    "# plot loss during training\n",
    "pyplot.plot()\n",
    "pyplot.title('Loss')\n",
    "pyplot.plot(history.history['loss'], label = 'train')\n",
    "pyplot.plot(history.history['val_loss'], label = 'validation')\n",
    "pyplot.legend()\n",
    "pyplot.show()"
   ]
  },
  {
   "cell_type": "code",
   "execution_count": 34,
   "metadata": {},
   "outputs": [
    {
     "data": {
      "image/png": "[encoded data removed]",
      "text/plain": [
       "<Figure size 432x288 with 1 Axes>"
      ]
     },
     "metadata": {
      "needs_background": "light"
     },
     "output_type": "display_data"
    }
   ],
   "source": [
    "# plot accuracy during training\n",
    "pyplot.plot()\n",
    "pyplot.title('Accuracy')\n",
    "pyplot.plot(history.history['accuracy'], label = 'train')\n",
    "pyplot.plot(history.history['val_accuracy'], label = 'validation')\n",
    "pyplot.legend()\n",
    "pyplot.show()"
   ]
  }
 ],
 "metadata": {
  "kernelspec": {
   "display_name": "Python 3",
   "language": "python",
   "name": "python3"
  },
  "language_info": {
   "codemirror_mode": {
    "name": "ipython",
    "version": 3
   },
   "file_extension": ".py",
   "mimetype": "text/x-python",
   "name": "python",
   "nbconvert_exporter": "python",
   "pygments_lexer": "ipython3",
   "version": "3.8.3"
  }
 },
 "nbformat": 4,
 "nbformat_minor": 4
}
